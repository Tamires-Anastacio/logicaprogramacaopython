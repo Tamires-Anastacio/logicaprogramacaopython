{
  "nbformat": 4,
  "nbformat_minor": 0,
  "metadata": {
    "colab": {
      "provenance": [],
      "authorship_tag": "ABX9TyPsqayOXtopGZYn72bMmebI",
      "include_colab_link": true
    },
    "kernelspec": {
      "name": "python3",
      "display_name": "Python 3"
    },
    "language_info": {
      "name": "python"
    }
  },
  "cells": [
    {
      "cell_type": "markdown",
      "metadata": {
        "id": "view-in-github",
        "colab_type": "text"
      },
      "source": [
        "<a href=\"https://colab.research.google.com/github/Tamires-Anastacio/logicaprogramacaopython/blob/main/variaveis%20e%20operadores%20aritmeticos/VariavesOperadoresAritmeticosipynb.ipynb\" target=\"_parent\"><img src=\"https://colab.research.google.com/assets/colab-badge.svg\" alt=\"Open In Colab\"/></a>"
      ]
    },
    {
      "cell_type": "markdown",
      "source": [
        "# Criando variaveis"
      ],
      "metadata": {
        "id": "v6z2Yo1UBejF"
      }
    },
    {
      "cell_type": "markdown",
      "source": [
        "###Area do quadrado"
      ],
      "metadata": {
        "id": "LO6_JWv6J8q-"
      }
    },
    {
      "cell_type": "code",
      "execution_count": null,
      "metadata": {
        "colab": {
          "base_uri": "https://localhost:8080/"
        },
        "id": "N1y105OCBA7v",
        "outputId": "a80c760c-75f1-42df-e4bc-54cfb0931bd8"
      },
      "outputs": [
        {
          "output_type": "stream",
          "name": "stdout",
          "text": [
            "A área do Quadrado é:  25\n"
          ]
        }
      ],
      "source": [
        "#entrada\n",
        "l = 5\n",
        "#processamento\n",
        "a = l*l\n",
        "#saida\n",
        "print( \"A área do Quadrado é: \", a)"
      ]
    },
    {
      "cell_type": "markdown",
      "source": [],
      "metadata": {
        "id": "i0AgbczjCcu0"
      }
    },
    {
      "cell_type": "markdown",
      "source": [
        "###Area do retangulo\n"
      ],
      "metadata": {
        "id": "iZ51Dcp_KHT9"
      }
    },
    {
      "cell_type": "code",
      "source": [
        "#entrada\n",
        "comprimento= float(input(\"Digite o comprimento do retângulo: \"))\n",
        "largura= float(input(\"Digite a largura do retângulo: \"))\n",
        "\n",
        "#processamento\n",
        "area = comprimento * largura\n",
        "\n",
        "#saida\n",
        "print(\"A area do retângulo é: \", area)\n",
        "\n"
      ],
      "metadata": {
        "colab": {
          "base_uri": "https://localhost:8080/"
        },
        "id": "pQdgpZHJKcqH",
        "outputId": "e0a8020f-29e1-4f13-bddc-d498948038ef"
      },
      "execution_count": null,
      "outputs": [
        {
          "output_type": "stream",
          "name": "stdout",
          "text": [
            "Digite o comprimento do retângulo: 4\n",
            "Digite a largura do retângulo: 6\n",
            "A area do retângulo é:  24.0\n"
          ]
        }
      ]
    },
    {
      "cell_type": "markdown",
      "source": [
        "###Triangulo retangulo"
      ],
      "metadata": {
        "id": "wO1w9nY7GTBm"
      }
    },
    {
      "cell_type": "code",
      "source": [
        "#entrada\n",
        "btri= float(input(\"Digite a base do triângulo: \"))\n",
        "htri= float(input(\"Digite a altura do triângulo: \"))\n",
        "\n",
        "#processamento\n",
        "areatri = (btri*htri)/2\n",
        "\n",
        "#saida\n",
        "print(\"A area do Triangulo retângulo é: \", areatri)"
      ],
      "metadata": {
        "colab": {
          "base_uri": "https://localhost:8080/"
        },
        "id": "3dSjMkJ_GaQQ",
        "outputId": "baa501e4-6931-4b0b-faaa-cfaee5af51ec"
      },
      "execution_count": null,
      "outputs": [
        {
          "output_type": "stream",
          "name": "stdout",
          "text": [
            "Digite a base do triângulo: 6\n",
            "Digite a altura do triângulo: 4\n",
            "A area do Triangulo retângulo é:  12.0\n"
          ]
        }
      ]
    },
    {
      "cell_type": "markdown",
      "source": [
        "###Area do trapezio (b*h)/2"
      ],
      "metadata": {
        "id": "nNQ-2XkbMnYV"
      }
    },
    {
      "cell_type": "code",
      "source": [
        "#entrada\n",
        "bma= float(input(\"Digite a base maior do trapézio: \"))\n",
        "bame= float(input(\"Digite a base menor do trapézio: \"))\n",
        "alttra= float(input(\"Digite a altura do trapézio: \"))\n",
        "\n",
        "#processamento\n",
        "areatra = ((bma+bame)*alttra)/2\n",
        "\n",
        "#saida\n",
        "print(\"A área do Trapézio é: \", areatra)\n",
        "\n",
        "\n",
        "\n"
      ],
      "metadata": {
        "id": "22NRInlvM0Zo",
        "colab": {
          "base_uri": "https://localhost:8080/"
        },
        "outputId": "c7a36b00-9add-456e-929e-9a625a32164d"
      },
      "execution_count": null,
      "outputs": [
        {
          "output_type": "stream",
          "name": "stdout",
          "text": [
            "Digite a base maior do trapézio: 10\n",
            "Digite a base menor do trapézio: 7\n",
            "Digite a altura do trapézio: 4\n",
            "A área do Trapézio é:  34.0\n"
          ]
        }
      ]
    },
    {
      "cell_type": "markdown",
      "source": [
        "###Azulejos"
      ],
      "metadata": {
        "id": "HaHr4E2aRp3O"
      }
    },
    {
      "cell_type": "code",
      "source": [
        "#entrada\n",
        "basepa= float(input(\"Digite a base da perede em metros: \"))\n",
        "altpa= float(input(\"Digite a altura da parede em metros: \"))\n",
        "baseazu= float(input(\"Digite a base do azulejo em centimetros: \"))\n",
        "altazu= float(input(\"Digite a altura do azulejo em centimetros: \"))\n",
        "\n",
        "\n",
        "\n"
      ],
      "metadata": {
        "id": "dGhuTAVUR1re",
        "colab": {
          "base_uri": "https://localhost:8080/"
        },
        "outputId": "aa3ed840-499a-45fa-f85e-ed79e1ab9410"
      },
      "execution_count": null,
      "outputs": [
        {
          "name": "stdout",
          "output_type": "stream",
          "text": [
            "Digite a base da perede em metros: 6\n",
            "Digite a altura da parede em metros: 4\n",
            "Digite a base do azulejo em centimetros: 3\n",
            "Digite a altura do azulejo em centimetros: 4\n"
          ]
        }
      ]
    },
    {
      "cell_type": "code",
      "source": [
        "#processamento\n",
        "areaparede = basepa*altpa\n",
        "areaazul = baseazu*altazu\n",
        "areaazulconvert = areaazulconvert = areaazul/100\n",
        "totalazul = areaparede/areaazulconvert"
      ],
      "metadata": {
        "id": "p4K2gd6x-Zsg"
      },
      "execution_count": null,
      "outputs": []
    },
    {
      "cell_type": "code",
      "source": [
        "#saida\n",
        "print(\"voce precisará de \", totalazul, \"azulejos!\" )\n"
      ],
      "metadata": {
        "colab": {
          "base_uri": "https://localhost:8080/"
        },
        "id": "5XGiNAfT_AaG",
        "outputId": "4aec94a6-4925-4440-dbad-99058727c022"
      },
      "execution_count": null,
      "outputs": [
        {
          "output_type": "stream",
          "name": "stdout",
          "text": [
            "voce precisará de  200.0 azulejos!\n"
          ]
        }
      ]
    },
    {
      "cell_type": "markdown",
      "source": [],
      "metadata": {
        "id": "4GSUPnYwBpZ8"
      }
    }
  ]
}